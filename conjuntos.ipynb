{
 "cells": [
  {
   "cell_type": "markdown",
   "id": "f54b9f06",
   "metadata": {},
   "source": [
    "## Conjuntos"
   ]
  },
  {
   "cell_type": "code",
   "execution_count": 23,
   "id": "94d2ed05",
   "metadata": {},
   "outputs": [],
   "source": [
    "# Criando um conjuntos\n",
    "\n",
    "conjunto_1 = set([99, 8, 1, 1, 2, 3, 5, 8, 151561])"
   ]
  },
  {
   "cell_type": "code",
   "execution_count": 24,
   "id": "efb6981f",
   "metadata": {},
   "outputs": [
    {
     "name": "stdout",
     "output_type": "stream",
     "text": [
      "{1, 2, 99, 3, 5, 8, 151561}\n"
     ]
    }
   ],
   "source": [
    "print(conjunto_1)"
   ]
  },
  {
   "cell_type": "code",
   "execution_count": 25,
   "id": "5f2da011",
   "metadata": {},
   "outputs": [
    {
     "name": "stdout",
     "output_type": "stream",
     "text": [
      "{1, 2, 99, 3, 5, 8, 151561, 10}\n"
     ]
    }
   ],
   "source": [
    "#Add algo\n",
    "conjunto_1.add(10)\n",
    "print(conjunto_1)"
   ]
  },
  {
   "cell_type": "code",
   "execution_count": 26,
   "id": "934359ef",
   "metadata": {},
   "outputs": [
    {
     "name": "stdout",
     "output_type": "stream",
     "text": [
      "{2, 99, 3, 5, 8, 151561, 10}\n"
     ]
    }
   ],
   "source": [
    "# Remover algo\n",
    "\n",
    "conjunto_1.remove(1)\n",
    "print(conjunto_1)"
   ]
  }
 ],
 "metadata": {
  "kernelspec": {
   "display_name": "Python 3 (ipykernel)",
   "language": "python",
   "name": "python3"
  },
  "language_info": {
   "codemirror_mode": {
    "name": "ipython",
    "version": 3
   },
   "file_extension": ".py",
   "mimetype": "text/x-python",
   "name": "python",
   "nbconvert_exporter": "python",
   "pygments_lexer": "ipython3",
   "version": "3.10.9"
  }
 },
 "nbformat": 4,
 "nbformat_minor": 5
}
